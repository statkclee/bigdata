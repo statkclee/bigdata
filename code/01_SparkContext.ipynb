{
 "cells": [
  {
   "cell_type": "markdown",
   "metadata": {},
   "source": [
    "## Spark Context\n",
    "\n",
    "`SparkContext`를 생성시키는 것도 방법인데, 자동으로 `sc`가 생성되어 이를 활용하는 것도 권장된다."
   ]
  },
  {
   "cell_type": "code",
   "execution_count": 1,
   "metadata": {},
   "outputs": [
    {
     "name": "stdout",
     "output_type": "stream",
     "text": [
      "스파크 컨텍스트 버젼:  2.3.0\n",
      "Spark Context 파이썬 버전: 3.6\n",
      "Spark Context 마스터: local[*]\n"
     ]
    }
   ],
   "source": [
    "import findspark\n",
    "findspark.init()\n",
    "import pyspark\n",
    "import random\n",
    "\n",
    "sc = pyspark.SparkContext(appName=\"SparkContext\")\n",
    "\n",
    "# SparkContext 버전\n",
    "print(\"스파크 컨텍스트 버젼: \", sc.version)\n",
    "\n",
    "# SparkContext 파이썬 버전\n",
    "print(\"Spark Context 파이썬 버전:\", sc.pythonVer)\n",
    "\n",
    "# SparkContext 마스터\n",
    "print(\"Spark Context 마스터:\", sc.master)"
   ]
  }
 ],
 "metadata": {
  "kernelspec": {
   "display_name": "Python 3",
   "language": "python",
   "name": "python3"
  },
  "language_info": {
   "codemirror_mode": {
    "name": "ipython",
    "version": 3
   },
   "file_extension": ".py",
   "mimetype": "text/x-python",
   "name": "python",
   "nbconvert_exporter": "python",
   "pygments_lexer": "ipython3",
   "version": "3.6.4"
  }
 },
 "nbformat": 4,
 "nbformat_minor": 2
}
