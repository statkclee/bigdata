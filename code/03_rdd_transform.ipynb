{
 "cells": [
  {
   "cell_type": "markdown",
   "metadata": {},
   "source": [
    "## 1. 스파크 클러스터 접속\n",
    "\n",
    "Spark Context 생성시켜 `sc`변수에 지정하고 이를 연결지점으로 스파크 클러스터에 접속한다."
   ]
  },
  {
   "cell_type": "code",
   "execution_count": 38,
   "metadata": {},
   "outputs": [],
   "source": [
    "import findspark\n",
    "findspark.init()\n",
    "import pyspark\n",
    "\n",
    "sc = pyspark.SparkContext()"
   ]
  },
  {
   "cell_type": "markdown",
   "metadata": {},
   "source": [
    "## 2. `sc.parallelize()`로 RDD 변환\n",
    "파이썬 리스트를 `sc.parallelize()` 함수로 불러온다."
   ]
  },
  {
   "cell_type": "code",
   "execution_count": 7,
   "metadata": {},
   "outputs": [],
   "source": [
    "# 숫자 리스트를 바탕으로 RDD 객체 생성\n",
    "list_rdd = sc.parallelize([1,2,3,4,5,6])"
   ]
  },
  {
   "cell_type": "markdown",
   "metadata": {},
   "source": [
    "## 3. `.map()` 함수로 자료변환\n",
    "`.map()` 함수를 사용해서 RDD 객체 각 원소에 대해서 연산작업을 수행한다; 각 원소를 제곱한다."
   ]
  },
  {
   "cell_type": "code",
   "execution_count": 8,
   "metadata": {},
   "outputs": [
    {
     "name": "stdout",
     "output_type": "stream",
     "text": [
      "원소를 제곱한 값:  1\n",
      "원소를 제곱한 값:  4\n",
      "원소를 제곱한 값:  9\n",
      "원소를 제곱한 값:  16\n",
      "원소를 제곱한 값:  25\n",
      "원소를 제곱한 값:  36\n"
     ]
    }
   ],
   "source": [
    "list_squared_rdd = list_rdd.map(lambda x: x**2)\n",
    "list_squared_list = list_squared_rdd.collect()\n",
    "\n",
    "for element in list_squared_list:\n",
    "    print(\"원소를 제곱한 값: \", element)"
   ]
  },
  {
   "cell_type": "markdown",
   "metadata": {},
   "source": [
    "## 2. `sc.readText()` 데이터 불러오기\n",
    "`iris.csv` 외부 `.csv` 데이터를  `sc.textFile()` 함수로 불러와서 RDD 객체로 변환시킨다.\n",
    "람다 무명함수로 `.filter`를 걸어 \"setosa\"가 포함된 모든 행을 뽑아내서 `iris_setosa_rdd` RDD 객체를 생성시킨다.\n",
    "그리고 나서 `.count()` 함수로 \"setosa\"가 포함된 행을 센다. `.take()` 함수로 스파크 클러스터에서 빼내서 `for`문을 돌려 \n",
    "\"setosa\"가 포함된 7줄을 뽑아내서 출력시킨다."
   ]
  },
  {
   "cell_type": "code",
   "execution_count": 9,
   "metadata": {},
   "outputs": [
    {
     "name": "stdout",
     "output_type": "stream",
     "text": [
      "IRIS 데이터 setosa 품종수:  50\n",
      "5.1,3.5,1.4,0.2,setosa\n",
      "4.9,3.0,1.4,0.2,setosa\n",
      "4.7,3.2,1.3,0.2,setosa\n",
      "4.6,3.1,1.5,0.2,setosa\n",
      "5.0,3.6,1.4,0.2,setosa\n",
      "5.4,3.9,1.7,0.4,setosa\n",
      "4.6,3.4,1.4,0.3,setosa\n"
     ]
    }
   ],
   "source": [
    "iris_rdd = sc.textFile(\"../data/iris.csv\")\n",
    "\n",
    "# \"setosa\" 품종이 포함된 행만 필터를 걸어서 추출함.\n",
    "iris_setosa_rdd = iris_rdd.filter(lambda species: \"setosa\" in species)\n",
    "\n",
    "# \"setosa\" 품종이 포함된 행수를 개수함.\n",
    "print(\"IRIS 데이터 setosa 품종수: \", iris_setosa_rdd.count())\n",
    "\n",
    "# 첫 7행을 화면에 출력시킴\n",
    "for species in iris_setosa_rdd.take(7): \n",
    "  print(species)"
   ]
  },
  {
   "cell_type": "markdown",
   "metadata": {},
   "source": [
    "## 4. 키-값 자료구조 "
   ]
  },
  {
   "cell_type": "markdown",
   "metadata": {},
   "source": [
    "### 4.1. 파이썬 딕셔너리 활용\n",
    "튜플 리스트로 데이터가 준비된 경우 각 정당별(key) 득표수(value)에 대한 합을 구하는 경우, \n",
    "스파크 클러스터를 활용하지 않고 데이터가 작은 경우 `defaultdict()` 함수를 활용해서 계산하는 것이 가능하다."
   ]
  },
  {
   "cell_type": "code",
   "execution_count": 31,
   "metadata": {},
   "outputs": [
    {
     "name": "stdout",
     "output_type": "stream",
     "text": [
      "민주당 : 31\n",
      "바른미래 : 22\n",
      "자유한국 : 13\n"
     ]
    }
   ],
   "source": [
    "from collections import defaultdict\n",
    "\n",
    "# 튜플 리스트\n",
    "party_list = [('민주당',1), ('바른미래',2), ('자유한국',3), ('민주당',30), ('바른미래',20), ('자유한국',10)]\n",
    "\n",
    "party_dict = defaultdict(int)\n",
    "\n",
    "# 정당별 합을 구하는 과정\n",
    "for party, vote in party_list:\n",
    "    party_dict[party] += vote\n",
    "\n",
    "# 정당별 합을 출력\n",
    "for party, vote in party_dict.items():\n",
    "    print(party, \":\", vote)"
   ]
  },
  {
   "cell_type": "markdown",
   "metadata": {},
   "source": [
    "### 4.2. 스파크 `reduceByKey()` 함수\n",
    "`reduceByKey()`함수를 사용해서 키값을 기준으로 값(Value)에 대한 연산작업을 수월히 수행할 수 있다."
   ]
  },
  {
   "cell_type": "code",
   "execution_count": 26,
   "metadata": {
    "scrolled": true
   },
   "outputs": [
    {
     "name": "stdout",
     "output_type": "stream",
     "text": [
      "('민주당', 31)\n",
      "('바른미래', 22)\n",
      "('자유한국', 13)\n"
     ]
    }
   ],
   "source": [
    "party_rdd = sc.parallelize(party_list)\n",
    "\n",
    "# 정당별 총합 계산\n",
    "party_total_rdd = party_rdd.reduceByKey(lambda x, y: x+y).sortByKey(ascending=True)\n",
    "\n",
    "# 정당별 총합을 계산하고 내림차순으로 정렬\n",
    "for num in party_total_rdd.collect():\n",
    "  print(num)"
   ]
  },
  {
   "cell_type": "markdown",
   "metadata": {},
   "source": [
    "### 4.3. 판다스 데이터프레임 변환 \n",
    "튜플 리스트를 `pd.DataFrame()` 함수로 판다스 데이터프레임으로 변환을 시킨 후에 `groupby()` 연산을 사용해서 정당별\n",
    "득표수 합을 구한다."
   ]
  },
  {
   "cell_type": "code",
   "execution_count": 36,
   "metadata": {},
   "outputs": [
    {
     "data": {
      "text/html": [
       "<div>\n",
       "<style scoped>\n",
       "    .dataframe tbody tr th:only-of-type {\n",
       "        vertical-align: middle;\n",
       "    }\n",
       "\n",
       "    .dataframe tbody tr th {\n",
       "        vertical-align: top;\n",
       "    }\n",
       "\n",
       "    .dataframe thead th {\n",
       "        text-align: right;\n",
       "    }\n",
       "</style>\n",
       "<table border=\"1\" class=\"dataframe\">\n",
       "  <thead>\n",
       "    <tr style=\"text-align: right;\">\n",
       "      <th></th>\n",
       "      <th>vote</th>\n",
       "    </tr>\n",
       "    <tr>\n",
       "      <th>party</th>\n",
       "      <th></th>\n",
       "    </tr>\n",
       "  </thead>\n",
       "  <tbody>\n",
       "    <tr>\n",
       "      <th>민주당</th>\n",
       "      <td>31</td>\n",
       "    </tr>\n",
       "    <tr>\n",
       "      <th>바른미래</th>\n",
       "      <td>22</td>\n",
       "    </tr>\n",
       "    <tr>\n",
       "      <th>자유한국</th>\n",
       "      <td>13</td>\n",
       "    </tr>\n",
       "  </tbody>\n",
       "</table>\n",
       "</div>"
      ],
      "text/plain": [
       "       vote\n",
       "party      \n",
       "민주당      31\n",
       "바른미래     22\n",
       "자유한국     13"
      ]
     },
     "execution_count": 36,
     "metadata": {},
     "output_type": "execute_result"
    }
   ],
   "source": [
    "import pandas as pd\n",
    "\n",
    "party_df = pd.DataFrame(party_list, columns=['party', 'vote'])\n",
    "\n",
    "party_df.groupby('party').sum()"
   ]
  }
 ],
 "metadata": {
  "kernelspec": {
   "display_name": "Python 3",
   "language": "python",
   "name": "python3"
  },
  "language_info": {
   "codemirror_mode": {
    "name": "ipython",
    "version": 3
   },
   "file_extension": ".py",
   "mimetype": "text/x-python",
   "name": "python",
   "nbconvert_exporter": "python",
   "pygments_lexer": "ipython3",
   "version": "3.6.4"
  }
 },
 "nbformat": 4,
 "nbformat_minor": 2
}
