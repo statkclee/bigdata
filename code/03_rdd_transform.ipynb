{
 "cells": [
  {
   "cell_type": "markdown",
   "metadata": {},
   "source": [
    "## 1. 스파크 클러스터 접속\n",
    "\n",
    "Spark Context 생성시켜 `sc`변수에 지정하고 이를 연결지점으로 스파크 클러스터에 접속한다."
   ]
  },
  {
   "cell_type": "code",
   "execution_count": 1,
   "metadata": {},
   "outputs": [],
   "source": [
    "import findspark\n",
    "findspark.init()\n",
    "import pyspark\n",
    "\n",
    "sc = pyspark.SparkContext()"
   ]
  },
  {
   "cell_type": "markdown",
   "metadata": {},
   "source": [
    "## 2. `sc.parallelize()`로 RDD 변환\n",
    "파이썬 리스트를 `sc.parallelize()` 함수로 불러온다."
   ]
  },
  {
   "cell_type": "code",
   "execution_count": 2,
   "metadata": {},
   "outputs": [],
   "source": [
    "# 숫자 리스트를 바탕으로 RDD 객체 생성\n",
    "list_rdd = sc.parallelize([1,2,3,4,5])"
   ]
  },
  {
   "cell_type": "markdown",
   "metadata": {},
   "source": [
    "## 3. `.map()` 함수로 자료변환\n",
    "`.map()` 함수를 사용해서 RDD 객체 각 원소에 대해서 연산작업을 수행한다; 각 원소를 제곱한다."
   ]
  },
  {
   "cell_type": "code",
   "execution_count": 3,
   "metadata": {},
   "outputs": [
    {
     "name": "stdout",
     "output_type": "stream",
     "text": [
      "원소를 제곱한 값:  1\n",
      "원소를 제곱한 값:  4\n",
      "원소를 제곱한 값:  9\n",
      "원소를 제곱한 값:  16\n",
      "원소를 제곱한 값:  25\n"
     ]
    }
   ],
   "source": [
    "list_squared_rdd = list_rdd.map(lambda x: x**2)\n",
    "list_squared_list = list_squared_rdd.collect()\n",
    "\n",
    "for element in list_squared_list:\n",
    "    print(\"원소를 제곱한 값: \", element)"
   ]
  },
  {
   "cell_type": "markdown",
   "metadata": {},
   "source": [
    "## 2. `sc.readText()` 데이터 불러오기\n",
    "`iris.csv` 외부 `.csv` 데이터를  `sc.textFile()` 함수로 불러와서 RDD 객체로 변환시킨다.\n",
    "람다 무명함수로 `.filter`를 걸어 \"setosa\"가 포함된 모든 행을 뽑아내서 `iris_setosa_rdd` RDD 객체를 생성시킨다.\n",
    "그리고 나서 `.count()` 함수로 \"setosa\"가 포함된 행을 센다. `.take()` 함수로 스파크 클러스터에서 빼내서 `for`문을 돌려 \n",
    "\"setosa\"가 포함된 7줄을 뽑아내서 출력시킨다."
   ]
  },
  {
   "cell_type": "code",
   "execution_count": 4,
   "metadata": {},
   "outputs": [
    {
     "name": "stdout",
     "output_type": "stream",
     "text": [
      "IRIS 데이터 setosa 품종수:  50\n",
      "5.1,3.5,1.4,0.2,setosa\n",
      "4.9,3.0,1.4,0.2,setosa\n",
      "4.7,3.2,1.3,0.2,setosa\n",
      "4.6,3.1,1.5,0.2,setosa\n",
      "5.0,3.6,1.4,0.2,setosa\n",
      "5.4,3.9,1.7,0.4,setosa\n",
      "4.6,3.4,1.4,0.3,setosa\n"
     ]
    }
   ],
   "source": [
    "iris_rdd = sc.textFile(\"../data/iris.csv\")\n",
    "\n",
    "# \"setosa\" 품종이 포함된 행만 필터를 걸어서 추출함.\n",
    "iris_setosa_rdd = iris_rdd.filter(lambda species: \"setosa\" in species)\n",
    "\n",
    "# \"setosa\" 품종이 포함된 행수를 개수함.\n",
    "print(\"IRIS 데이터 setosa 품종수: \", iris_setosa_rdd.count())\n",
    "\n",
    "# 첫 7행을 화면에 출력시킴\n",
    "for species in iris_setosa_rdd.take(7): \n",
    "  print(species)"
   ]
  },
  {
   "cell_type": "markdown",
   "metadata": {},
   "source": [
    "## 4. 키-값 자료구조 \n"
   ]
  },
  {
   "cell_type": "code",
   "execution_count": 35,
   "metadata": {
    "scrolled": true
   },
   "outputs": [
    {
     "name": "stdout",
     "output_type": "stream",
     "text": [
      "민주당  -->  1\n",
      "바른미래  -->  1\n",
      "자유한국  -->  1\n",
      "민주당  -->  10\n",
      "바른미래  -->  20\n",
      "자유한국  -->  10\n"
     ]
    },
    {
     "data": {
      "text/plain": [
       "[('민주당', [1, 10]), ('바른미래', [1, 20]), ('자유한국', [1, 10])]"
      ]
     },
     "execution_count": 35,
     "metadata": {},
     "output_type": "execute_result"
    }
   ],
   "source": [
    "from collections import defaultdict\n",
    "# 튜플 리스트\n",
    "party_list = [('민주당',1), ('바른미래',1), ('자유한국',1), ('민주당',10), ('바른미래',20), ('자유한국',10)]\n",
    "\n",
    "for key, value in party_list:\n",
    "    print(key, \" --> \", value)\n",
    "    \n",
    "party_dict = defaultdict(list)\n",
    "\n",
    "for k, v in party_list:\n",
    "    party_dict[k].append(v)\n",
    "\n",
    "list(party_dict.items())    "
   ]
  },
  {
   "cell_type": "code",
   "execution_count": 39,
   "metadata": {},
   "outputs": [
    {
     "ename": "NameError",
     "evalue": "name 'reduce' is not defined",
     "output_type": "error",
     "traceback": [
      "\u001b[1;31m---------------------------------------------------------------------------\u001b[0m",
      "\u001b[1;31mNameError\u001b[0m                                 Traceback (most recent call last)",
      "\u001b[1;32m<ipython-input-39-8e4d317027b8>\u001b[0m in \u001b[0;36m<module>\u001b[1;34m()\u001b[0m\n\u001b[0;32m      5\u001b[0m \u001b[1;33m\u001b[0m\u001b[0m\n\u001b[0;32m      6\u001b[0m \u001b[1;32mfor\u001b[0m \u001b[0mparty\u001b[0m\u001b[1;33m,\u001b[0m \u001b[0mvote\u001b[0m \u001b[1;32min\u001b[0m \u001b[0mparty_list\u001b[0m\u001b[1;33m:\u001b[0m\u001b[1;33m\u001b[0m\u001b[0m\n\u001b[1;32m----> 7\u001b[1;33m     \u001b[0mparty_total\u001b[0m\u001b[1;33m[\u001b[0m\u001b[0mparty\u001b[0m\u001b[1;33m]\u001b[0m \u001b[1;33m=\u001b[0m \u001b[0mreduce\u001b[0m\u001b[1;33m(\u001b[0m\u001b[0mvote\u001b[0m\u001b[1;33m,\u001b[0m \u001b[1;34m'+'\u001b[0m\u001b[1;33m)\u001b[0m\u001b[1;33m\u001b[0m\u001b[0m\n\u001b[0m\u001b[0;32m      8\u001b[0m \u001b[1;33m\u001b[0m\u001b[0m\n\u001b[0;32m      9\u001b[0m \u001b[0moutput\u001b[0m \u001b[1;33m=\u001b[0m \u001b[1;33m[\u001b[0m\u001b[1;33m(\u001b[0m\u001b[0mk\u001b[0m\u001b[1;33m,\u001b[0m\u001b[1;33m)\u001b[0m \u001b[1;33m+\u001b[0m \u001b[0mv\u001b[0m \u001b[1;32mfor\u001b[0m \u001b[0mk\u001b[0m\u001b[1;33m,\u001b[0m \u001b[0mv\u001b[0m \u001b[1;32min\u001b[0m \u001b[0mparty_total\u001b[0m\u001b[1;33m.\u001b[0m\u001b[0mitems\u001b[0m\u001b[1;33m(\u001b[0m\u001b[1;33m)\u001b[0m\u001b[1;33m]\u001b[0m\u001b[1;33m\u001b[0m\u001b[0m\n",
      "\u001b[1;31mNameError\u001b[0m: name 'reduce' is not defined"
     ]
    }
   ],
   "source": [
    "from itertools import groupby\n",
    "from operator import itemgetter\n",
    "\n",
    "party_total = {}\n",
    "\n",
    "for party, vote in party_list:\n",
    "    party_total[party] = reduce(vote, '+')\n",
    "\n",
    "output = [(k,) + v for k, v in party_total.items()]    \n",
    "    \n",
    "party_total"
   ]
  }
 ],
 "metadata": {
  "kernelspec": {
   "display_name": "Python 3",
   "language": "python",
   "name": "python3"
  },
  "language_info": {
   "codemirror_mode": {
    "name": "ipython",
    "version": 3
   },
   "file_extension": ".py",
   "mimetype": "text/x-python",
   "name": "python",
   "nbconvert_exporter": "python",
   "pygments_lexer": "ipython3",
   "version": "3.6.4"
  }
 },
 "nbformat": 4,
 "nbformat_minor": 2
}
