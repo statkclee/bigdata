{
 "cells": [
  {
   "cell_type": "markdown",
   "metadata": {},
   "source": [
    "## 1. 데이터 스파크로 가져오기\n",
    "\n",
    "자동으로 `sc`가 생성되어 이를 활용하여 데이터를 가져온다.\n",
    "데이터를 가져오는 방식은 크게 두가지로 나뉜다.\n",
    "\n",
    "- `sc.parallelize`\n",
    "- `sc.textFile`"
   ]
  },
  {
   "cell_type": "code",
   "execution_count": 7,
   "metadata": {},
   "outputs": [],
   "source": [
    "import findspark\n",
    "findspark.init()\n",
    "import pyspark\n",
    "\n",
    "sc = pyspark.SparkContext()"
   ]
  },
  {
   "cell_type": "markdown",
   "metadata": {},
   "source": [
    "### 1.1. `sc.parallelize()` 함수\n",
    "파이썬 리스트 객체를 스파크 RDD로 변환시켜 후속작업이 가능하게 한다."
   ]
  },
  {
   "cell_type": "code",
   "execution_count": 8,
   "metadata": {},
   "outputs": [
    {
     "name": "stdout",
     "output_type": "stream",
     "text": [
      "PythonRDD[1] at RDD at PythonRDD.scala:48\n"
     ]
    }
   ],
   "source": [
    "seq_number = range(1, 100)\n",
    "\n",
    "# PySpark으로 리스트 데이터 가져오기\n",
    "spark_data = sc.parallelize(seq_number)\n",
    "\n",
    "print(spark_data)"
   ]
  },
  {
   "cell_type": "markdown",
   "metadata": {},
   "source": [
    "### 1.2. `sc.readText()` 함수\n",
    "외부 파일을 스파크 RDD로 변환시킨다."
   ]
  },
  {
   "cell_type": "code",
   "execution_count": 11,
   "metadata": {},
   "outputs": [
    {
     "name": "stdout",
     "output_type": "stream",
     "text": [
      "../data/iris.csv MapPartitionsRDD[5] at textFile at <unknown>:0\n"
     ]
    }
   ],
   "source": [
    "iris = sc.textFile(\"../data/iris.csv\")\n",
    "print(iris)"
   ]
  },
  {
   "cell_type": "markdown",
   "metadata": {},
   "source": [
    "## 2. 한걸음더 들어갑니다.\n",
    "`type()`함수를 통해 객체 자료형을 파악합니다.\n",
    "### 2.1. `sc.parallelize()` 함수"
   ]
  },
  {
   "cell_type": "code",
   "execution_count": 17,
   "metadata": {},
   "outputs": [
    {
     "name": "stdout",
     "output_type": "stream",
     "text": [
      "The type of RDD is <class 'pyspark.rdd.RDD'>\n"
     ]
    }
   ],
   "source": [
    "# 단어 리스트를 바탕으로 RDD 객체 생성\n",
    "list_rdd = sc.parallelize([\"빅데이터는\", \"스파크로\", \"스몰 데이터는\", \"데이터프레임으로\"])\n",
    "# RDD 자료형 확인\n",
    "print(\"RDD 자료형: \", type(list_rdd))"
   ]
  },
  {
   "cell_type": "markdown",
   "metadata": {},
   "source": [
    "### 2.2. `sc.textFile()` 함수"
   ]
  },
  {
   "cell_type": "code",
   "execution_count": 23,
   "metadata": {},
   "outputs": [
    {
     "name": "stdout",
     "output_type": "stream",
     "text": [
      "RDD 자료형:  <class 'pyspark.rdd.RDD'> \n",
      "파티션 갯수: 3\n"
     ]
    }
   ],
   "source": [
    "# 단어 리스트를 바탕으로 파티션 반영 RDD 객체 생성\n",
    "iris_partition_rdd = sc.textFile(\"../data/iris.csv\", minPartitions=3)\n",
    "# RDD 자료형 확인\n",
    "print(\"RDD 자료형: \", type(iris_partition_rdd), \"\\n파티션 갯수:\", iris_partition_rdd.getNumPartitions())"
   ]
  }
 ],
 "metadata": {
  "kernelspec": {
   "display_name": "Python 3",
   "language": "python",
   "name": "python3"
  },
  "language_info": {
   "codemirror_mode": {
    "name": "ipython",
    "version": 3
   },
   "file_extension": ".py",
   "mimetype": "text/x-python",
   "name": "python",
   "nbconvert_exporter": "python",
   "pygments_lexer": "ipython3",
   "version": "3.6.4"
  }
 },
 "nbformat": 4,
 "nbformat_minor": 2
}
