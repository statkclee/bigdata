{
 "cells": [
  {
   "cell_type": "markdown",
   "metadata": {},
   "source": [
    "## 1. 스파크 클러스터 접속\n",
    "\n",
    "Spark Context 생성시켜 `sc`변수에 지정하고 이를 연결지점으로 스파크 클러스터에 접속한다."
   ]
  },
  {
   "cell_type": "code",
   "execution_count": 1,
   "metadata": {},
   "outputs": [],
   "source": [
    "import findspark\n",
    "findspark.init()\n",
    "import pyspark\n",
    "\n",
    "sc = pyspark.SparkContext()"
   ]
  },
  {
   "cell_type": "markdown",
   "metadata": {},
   "source": [
    "## 2. `sc.readText()` 데이터 불러오기\n",
    "세익스피어 전집을 구텐베르그 웹사이트에서 텍스트 형태로 다운로드 받는다. [Project Gutenberg’s The Complete Works of William Shakespeare, by William\n",
    "Shakespeare](http://www.gutenberg.org/files/100/100-0.txt). 이를 `data/` 디렉토리에 저장시킨다.\n",
    "`shakespeare_complete_work.txt` 외부 `.txt` 데이터를  `sc.textFile()` 함수로 불러와서 RDD 객체로 변환시킨다.\n",
    "그리고 나서, `flatMap()` 함수를 사용해서 공백을 기준으로 단어별로 토막을 낸다. "
   ]
  },
  {
   "cell_type": "code",
   "execution_count": 8,
   "metadata": {},
   "outputs": [
    {
     "name": "stdout",
     "output_type": "stream",
     "text": [
      "토막낸 전체 단어수: 960125\n"
     ]
    }
   ],
   "source": [
    "book_rdd = sc.textFile(\"../data/shakespeare_complete_work.txt\")\n",
    "\n",
    "book_split_rdd = book_rdd.flatMap(lambda x: x.split())\n",
    "\n",
    "print(\"토막낸 전체 단어수:\", book_split_rdd.count())"
   ]
  },
  {
   "cell_type": "markdown",
   "metadata": {},
   "source": [
    "## 3. 세익스피어 전집 데이터 전처리"
   ]
  },
  {
   "cell_type": "markdown",
   "metadata": {},
   "source": [
    "불용어를 정의해서 이를 제외하고 가장 빈도수가 높은 단어를 10개 추려보는 것을 목표로 삼는다.\n",
    "1. [NLTK 불용어 사전](https://gist.github.com/sebleier/554280)을 리스트로 정리한다.\n",
    "1. 토막낸 RDD 단어를 소문자로 변환하고 불용어가 아닌 것만 추려 `book_split_no_stop_rdd` RDD로 작성한다.\n",
    "1. 튜플로 각 단어와 빈도수 1을 갖는 RDD를 생성한다.\n",
    "1. `reduceByKey()` 함수로 단어별 빈도수를 계산한다.\n",
    "1. 키와 값을 바꾼 후에 내림차순으로 정렬시킨다.\n",
    "1. 가장 빈도수가 높은 단어를 10개 출력시킨다."
   ]
  },
  {
   "cell_type": "code",
   "execution_count": 10,
   "metadata": {},
   "outputs": [
    {
     "name": "stdout",
     "output_type": "stream",
     "text": [
      "(4528, 'thou')\n",
      "(3915, 'thy')\n",
      "(3247, 'shall')\n",
      "(2171, 'good')\n",
      "(2132, 'would')\n",
      "(1933, 'Enter')\n",
      "(1887, 'thee')\n",
      "(1718, 'hath')\n",
      "(1641, 'like')\n",
      "(1566, 'make')\n"
     ]
    }
   ],
   "source": [
    "# 불용어 사전\n",
    "stop_words = [\"i\", \"me\", \"my\", \"myself\", \"we\", \"our\", \"ours\", \"ourselves\", \"you\", \"your\", \"yours\", \"yourself\", \"yourselves\", \"he\", \"him\", \"his\", \"himself\", \"she\", \"her\", \"hers\", \"herself\", \"it\", \"its\", \"itself\", \"they\", \"them\", \"their\", \"theirs\", \"themselves\", \"what\", \"which\", \"who\", \"whom\", \"this\", \"that\", \"these\", \"those\", \"am\", \"is\", \"are\", \"was\", \"were\", \"be\", \"been\", \"being\", \"have\", \"has\", \"had\", \"having\", \"do\", \"does\", \"did\", \"doing\", \"a\", \"an\", \"the\", \"and\", \"but\", \"if\", \"or\", \"because\", \"as\", \"until\", \"while\", \"of\", \"at\", \"by\", \"for\", \"with\", \"about\", \"against\", \"between\", \"into\", \"through\", \"during\", \"before\", \"after\", \"above\", \"below\", \"to\", \"from\", \"up\", \"down\", \"in\", \"out\", \"on\", \"off\", \"over\", \"under\", \"again\", \"further\", \"then\", \"once\", \"here\", \"there\", \"when\", \"where\", \"why\", \"how\", \"all\", \"any\", \"both\", \"each\", \"few\", \"more\", \"most\", \"other\", \"some\", \"such\", \"no\", \"nor\", \"not\", \"only\", \"own\", \"same\", \"so\", \"than\", \"too\", \"very\", \"s\", \"t\", \"can\", \"will\", \"just\", \"don\", \"should\", \"now\"]\n",
    "\n",
    "# 소문자 변환 후 불용어 제거\n",
    "book_split_no_stop_rdd = book_split_rdd.filter(lambda x: x.lower() not in stop_words)\n",
    "\n",
    "# 튜플로 각 단어와 빈도수 1을 갖는 RDD를 생성한다.\n",
    "book_split_no_stop_word_rdd = book_split_no_stop_rdd.map(lambda w: (w, 1))\n",
    "\n",
    "# reduceByKey() 함수로 단어별 빈도수를 계산한다.\n",
    "word_count_rdd = book_split_no_stop_word_rdd.reduceByKey(lambda x, y: x + y)\n",
    "\n",
    "# 키와 값을 바꾼 후에 내림차순으로 정렬시킨다.\n",
    "word_count_swap_rdd = word_count_rdd.map(lambda x: (x[1], x[0])).sortByKey(ascending=False)\n",
    "\n",
    "for word in word_count_swap_rdd.take(10):\n",
    "    print(word)"
   ]
  }
 ],
 "metadata": {
  "kernelspec": {
   "display_name": "Python 3",
   "language": "python",
   "name": "python3"
  },
  "language_info": {
   "codemirror_mode": {
    "name": "ipython",
    "version": 3
   },
   "file_extension": ".py",
   "mimetype": "text/x-python",
   "name": "python",
   "nbconvert_exporter": "python",
   "pygments_lexer": "ipython3",
   "version": "3.6.4"
  }
 },
 "nbformat": 4,
 "nbformat_minor": 2
}
